{
  "cells": [
    {
      "cell_type": "code",
      "source": [
        "# Install packages (quietly)\n",
        "!pip -q install pandas numpy matplotlib seaborn statsmodels patsy pyjanitor tqdm\n",
        "\n",
        "import os, re, io, warnings, numpy as np, pandas as pd, matplotlib.pyplot as plt, seaborn as sns\n",
        "warnings.filterwarnings(\"ignore\")\n",
        "plt.rcParams[\"figure.dpi\"] = 120\n",
        "\n",
        "import statsmodels.api as sm\n",
        "import statsmodels.formula.api as smf\n",
        "from statsmodels.discrete.discrete_model import NegativeBinomial as NB2\n",
        "from patsy import dmatrices\n",
        "from patsy import bs\n",
        "from tqdm import tqdm\n",
        "tqdm.pandas()\n"
      ],
      "metadata": {
        "id": "s8rGZdH25rhL",
        "outputId": "34a83121-3c75-406f-f78f-2e556da9e64c",
        "colab": {
          "base_uri": "https://localhost:8080/"
        }
      },
      "execution_count": 1,
      "outputs": [
        {
          "output_type": "stream",
          "name": "stdout",
          "text": [
            "\u001b[?25l   \u001b[90m━━━━━━━━━━━━━━━━━━━━━━━━━━━━━━━━━━━━━━━━\u001b[0m \u001b[32m0.0/215.4 kB\u001b[0m \u001b[31m?\u001b[0m eta \u001b[36m-:--:--\u001b[0m\r\u001b[2K   \u001b[90m━━━━━━━━━━━━━━━━━━━━━━━━━━━━━━━━━━━━━━━━\u001b[0m \u001b[32m215.4/215.4 kB\u001b[0m \u001b[31m11.7 MB/s\u001b[0m eta \u001b[36m0:00:00\u001b[0m\n",
            "\u001b[?25h"
          ]
        }
      ]
    },
    {
      "cell_type": "code",
      "source": [],
      "metadata": {
        "id": "5-cz3okI5-cr"
      },
      "execution_count": null,
      "outputs": []
    }
  ],
  "metadata": {
    "accelerator": "GPU",
    "colab": {
      "name": "l01c01_introduction_to_colab_and_python.ipynb",
      "toc_visible": true,
      "provenance": []
    },
    "kernelspec": {
      "display_name": "Python 3",
      "name": "python3"
    }
  },
  "nbformat": 4,
  "nbformat_minor": 0
}